{
  "nbformat": 4,
  "nbformat_minor": 0,
  "metadata": {
    "colab": {
      "provenance": []
    },
    "kernelspec": {
      "name": "python3",
      "display_name": "Python 3"
    },
    "language_info": {
      "name": "python"
    }
  },
  "cells": [
    {
      "cell_type": "markdown",
      "source": [
        "# Import Packages"
      ],
      "metadata": {
        "id": "kk4M8kvh6D-5"
      }
    },
    {
      "cell_type": "code",
      "source": [
        "import numpy as np\n",
        "import torch\n",
        "from torchvision import datasets, transforms\n",
        "import torch.nn as nn\n",
        "import torch.nn.functional as F\n",
        "import matplotlib.pyplot as plt\n",
        "from torch.utils.data.sampler import SubsetRandomSampler"
      ],
      "metadata": {
        "id": "YTrgwZom6IMy"
      },
      "execution_count": null,
      "outputs": []
    },
    {
      "cell_type": "markdown",
      "source": [
        "# Defining Transformers"
      ],
      "metadata": {
        "id": "sITuuIj9-hME"
      }
    },
    {
      "cell_type": "code",
      "source": [
        "transform = transforms.Compose([transforms.ToTensor()])"
      ],
      "metadata": {
        "id": "keW727KO-k7v"
      },
      "execution_count": null,
      "outputs": []
    },
    {
      "cell_type": "markdown",
      "source": [
        "#Train and Test data"
      ],
      "metadata": {
        "id": "3cYsaTr_EbxK"
      }
    },
    {
      "cell_type": "code",
      "source": [
        "train_data = datasets.MNIST(root='data',\n",
        "                            train=True,\n",
        "                            download=True,\n",
        "                            transform=transform)\n",
        "\n",
        "test_data = datasets.MNIST(root='data',\n",
        "                           train=False,\n",
        "                           download=True,\n",
        "                           transform=transform)"
      ],
      "metadata": {
        "id": "MmyhI3DsEepJ",
        "collapsed": true
      },
      "execution_count": null,
      "outputs": []
    },
    {
      "cell_type": "markdown",
      "source": [
        "#Train and Test Dataloaders"
      ],
      "metadata": {
        "id": "ifZlf9CeJifX"
      }
    },
    {
      "cell_type": "code",
      "source": [
        "train_loader = torch.utils.data.DataLoader(train_data, batch_size=20, shuffle=True, num_workers=0)\n",
        "test_loader = torch.utils.data.DataLoader(test_data, batch_size=20, shuffle=False, num_workers=0)"
      ],
      "metadata": {
        "id": "Ub3tBy2wJmPz"
      },
      "execution_count": null,
      "outputs": []
    },
    {
      "cell_type": "code",
      "source": [
        "len(train_loader), len(test_loader)"
      ],
      "metadata": {
        "colab": {
          "base_uri": "https://localhost:8080/"
        },
        "id": "IYtie59lMbOL",
        "outputId": "5c3694a9-ca88-48cd-8965-4817d899b6ee"
      },
      "execution_count": null,
      "outputs": [
        {
          "output_type": "execute_result",
          "data": {
            "text/plain": [
              "(3000, 500)"
            ]
          },
          "metadata": {},
          "execution_count": 7
        }
      ]
    },
    {
      "cell_type": "markdown",
      "source": [
        "#Defining Neural Network"
      ],
      "metadata": {
        "id": "S7R1eJiE17zs"
      }
    },
    {
      "cell_type": "code",
      "source": [
        "class FNet(nn.Module):\n",
        "    def __init__(self):\n",
        "        super(FNet, self).__init__()\n",
        "        self.fc1 = nn.Linear(784, 512) #LT for hidden layer 1\n",
        "        self.fc2 = nn.Linear(512, 256) #LT for hidden layer 2\n",
        "        self.out = nn.Linear(256, 10) #LT for output layer\n",
        "\n",
        "        self.dropout = nn.Dropout(0.2) #shuts down neurons (20% chance) for all neurons to learn well\n",
        "\n",
        "    #forward propagation, feeding in values to the NN layers\n",
        "    def forward(self, x):\n",
        "        x = x.view(-1, 28 * 28)\n",
        "        x = self.dropout(F.relu(self.fc1(x)))\n",
        "        x = self.dropout(F.relu(self.fc2(x)))\n",
        "        x = self.out(x)\n",
        "        return x"
      ],
      "metadata": {
        "id": "0hQYXNLC1-3R"
      },
      "execution_count": null,
      "outputs": []
    },
    {
      "cell_type": "markdown",
      "source": [
        "#Initializing Weights"
      ],
      "metadata": {
        "id": "QwwqzTOQP18c"
      }
    },
    {
      "cell_type": "code",
      "source": [
        "model = FNet()\n",
        "def weight_init_normal(m):\n",
        "    classname = m.__class__.__name__\n",
        "    if classname.find('Linear') != -1:\n",
        "        n = m.in_features\n",
        "        y = (1.0 / np.sqrt(n))\n",
        "        m.weight.data.normal_(0, y)\n",
        "        m.bias.data.fill_(0)\n",
        "\n",
        "model.apply(weight_init_normal)"
      ],
      "metadata": {
        "colab": {
          "base_uri": "https://localhost:8080/"
        },
        "id": "9V0MkiN53J6L",
        "outputId": "6c0922c8-80a6-4a33-dc13-124dc53c2e27"
      },
      "execution_count": null,
      "outputs": [
        {
          "output_type": "execute_result",
          "data": {
            "text/plain": [
              "FNet(\n",
              "  (fc1): Linear(in_features=784, out_features=512, bias=True)\n",
              "  (fc2): Linear(in_features=512, out_features=256, bias=True)\n",
              "  (out): Linear(in_features=256, out_features=10, bias=True)\n",
              "  (dropout): Dropout(p=0.2, inplace=False)\n",
              ")"
            ]
          },
          "metadata": {},
          "execution_count": 9
        }
      ]
    },
    {
      "cell_type": "markdown",
      "source": [
        "#Defining Loss Function"
      ],
      "metadata": {
        "id": "gutdh77Z4ZI-"
      }
    },
    {
      "cell_type": "code",
      "source": [
        "criterion = nn.CrossEntropyLoss()"
      ],
      "metadata": {
        "id": "pytz0J9I4bX2"
      },
      "execution_count": null,
      "outputs": []
    },
    {
      "cell_type": "markdown",
      "source": [
        "#Training Phase, Backpropagation"
      ],
      "metadata": {
        "id": "v2kDMpwg4ghg"
      }
    },
    {
      "cell_type": "code",
      "source": [
        "def trainNet(model, lr):\n",
        "    optimizer = torch.optim.Adam(model.parameters(), lr=lr) #Adam Optimizer: adapts learning rates per parameter\n",
        "\n",
        "    epochs = 20  #no of iterations for minimising loss function\n",
        "    loss_keeper = {'train': []} #stores value of loss at each iteration\n",
        "\n",
        "    for epoch in range(epochs):\n",
        "        train_loss = 0.0\n",
        "        model.train()\n",
        "        for images, labels in train_loader:\n",
        "            optimizer.zero_grad()\n",
        "            output = model(images)\n",
        "            loss = criterion(output, labels)\n",
        "            loss.backward()\n",
        "            optimizer.step()\n",
        "            train_loss += loss.item()\n",
        "\n",
        "\n",
        "        # Calculating loss over entire batch size for every epoch\n",
        "        train_loss = train_loss / len(train_loader)\n",
        "\n",
        "        # saving loss value at each iteration\n",
        "        loss_keeper['train'].append(train_loss)\n",
        "\n",
        "        print(f'\\nEpoch : {epoch+1}\\tTraining Loss : {train_loss}')\n",
        "\n",
        "    return loss_keeper"
      ],
      "metadata": {
        "id": "kMhE3MFi4iqH"
      },
      "execution_count": null,
      "outputs": []
    },
    {
      "cell_type": "markdown",
      "source": [
        "#Loading Model from Lowest Validation Loss"
      ],
      "metadata": {
        "id": "VRkPi1TgDLbU"
      }
    },
    {
      "cell_type": "code",
      "source": [
        "m_loss = trainNet(model, 0.001)"
      ],
      "metadata": {
        "colab": {
          "base_uri": "https://localhost:8080/"
        },
        "id": "iCd2Eg8caR_H",
        "outputId": "9394a105-306a-4935-f433-6ac21799da28"
      },
      "execution_count": null,
      "outputs": [
        {
          "output_type": "stream",
          "name": "stdout",
          "text": [
            "\n",
            "Epoch : 1\tTraining Loss : 0.22028753244360755\n",
            "\n",
            "Epoch : 2\tTraining Loss : 0.11104199134088898\n",
            "\n",
            "Epoch : 3\tTraining Loss : 0.08553067639598642\n",
            "\n",
            "Epoch : 4\tTraining Loss : 0.06917065772182893\n",
            "\n",
            "Epoch : 5\tTraining Loss : 0.0629732149122151\n",
            "\n",
            "Epoch : 6\tTraining Loss : 0.05666120936894542\n",
            "\n",
            "Epoch : 7\tTraining Loss : 0.05103056929087999\n",
            "\n",
            "Epoch : 8\tTraining Loss : 0.046120450871101636\n",
            "\n",
            "Epoch : 9\tTraining Loss : 0.04285900425337202\n",
            "\n",
            "Epoch : 10\tTraining Loss : 0.042136451304393994\n",
            "\n",
            "Epoch : 11\tTraining Loss : 0.04161190508954021\n",
            "\n",
            "Epoch : 12\tTraining Loss : 0.03801290385533621\n",
            "\n",
            "Epoch : 13\tTraining Loss : 0.03941344018835457\n",
            "\n",
            "Epoch : 14\tTraining Loss : 0.036339472103681145\n",
            "\n",
            "Epoch : 15\tTraining Loss : 0.035526262629276634\n",
            "\n",
            "Epoch : 16\tTraining Loss : 0.03353379295297389\n",
            "\n",
            "Epoch : 17\tTraining Loss : 0.03291918558952185\n",
            "\n",
            "Epoch : 18\tTraining Loss : 0.03463988229788932\n",
            "\n",
            "Epoch : 19\tTraining Loss : 0.032731925889879984\n",
            "\n",
            "Epoch : 20\tTraining Loss : 0.032706457330299185\n"
          ]
        }
      ]
    },
    {
      "cell_type": "code",
      "source": [
        "m_loss"
      ],
      "metadata": {
        "id": "4j-QcFNQaUOu",
        "colab": {
          "base_uri": "https://localhost:8080/"
        },
        "outputId": "9f2e1dd1-7b7e-4165-f524-71322106ea4c"
      },
      "execution_count": null,
      "outputs": [
        {
          "output_type": "execute_result",
          "data": {
            "text/plain": [
              "{'train': [0.22028753244360755,\n",
              "  0.11104199134088898,\n",
              "  0.08553067639598642,\n",
              "  0.06917065772182893,\n",
              "  0.0629732149122151,\n",
              "  0.05666120936894542,\n",
              "  0.05103056929087999,\n",
              "  0.046120450871101636,\n",
              "  0.04285900425337202,\n",
              "  0.042136451304393994,\n",
              "  0.04161190508954021,\n",
              "  0.03801290385533621,\n",
              "  0.03941344018835457,\n",
              "  0.036339472103681145,\n",
              "  0.035526262629276634,\n",
              "  0.03353379295297389,\n",
              "  0.03291918558952185,\n",
              "  0.03463988229788932,\n",
              "  0.032731925889879984,\n",
              "  0.032706457330299185]}"
            ]
          },
          "metadata": {},
          "execution_count": 13
        }
      ]
    },
    {
      "cell_type": "code",
      "source": [
        "torch.save(model.state_dict(), 'FNet_model.pth')"
      ],
      "metadata": {
        "id": "MWFzqyUw8taW"
      },
      "execution_count": null,
      "outputs": []
    },
    {
      "cell_type": "markdown",
      "source": [
        "#Testing Phase"
      ],
      "metadata": {
        "id": "tELxWxBY9Zs0"
      }
    },
    {
      "cell_type": "code",
      "source": [
        "def test(model):\n",
        "    correct = 0\n",
        "    test_loss = 0\n",
        "    class_correct = [0. for _ in range(10)]\n",
        "    class_total = [0. for _ in range(10)]\n",
        "\n",
        "\n",
        "\n",
        "    model.eval()\n",
        "\n",
        "    #feeding test images into model\n",
        "    for images, labels in test_loader:\n",
        "        output = model(images)\n",
        "        loss = criterion(output, labels)\n",
        "        test_loss += loss.item()\n",
        "\n",
        "        _, pred = torch.max(output, 1)\n",
        "        correct_batch = pred.eq(labels)\n",
        "\n",
        "        #updating no of correct and total test cases\n",
        "        for i in range(len(labels)):\n",
        "            label = labels[i].item()\n",
        "            class_correct[label] += correct_batch[i].item()\n",
        "            class_total[label] += 1\n",
        "\n",
        "\n",
        "    #average test loss\n",
        "    test_loss = test_loss / len(test_loader)\n",
        "    print(f'\\nFor {type(model).__name__} :')\n",
        "    print(f'Test Loss: {test_loss:.4f}')\n",
        "    print(f'Correctly predicted per class : {class_correct}')\n",
        "    print(f'Total predictions per class : {class_total}\\n')\n",
        "\n",
        "    #calculating %accuracy\n",
        "    for i in range(10):\n",
        "        if class_total[i] > 0:\n",
        "            acc = 100 * class_correct[i] / class_total[i]\n",
        "            print(f\"Test Accuracy of class {i}: {acc:.2f}% ({int(class_correct[i])} / {int(class_total[i])})\")\n",
        "        else:\n",
        "            print(f\"Test Accuracy of class {i}: N/A (no test samples)\")\n",
        "\n",
        "    overall_acc = 100. * sum(class_correct) / sum(class_total)\n",
        "    print(f\"\\nOverall Test Accuracy: {overall_acc:.2f}% ({int(sum(class_correct))} / {int(sum(class_total))})\")\n",
        "\n",
        "    # Plot one batch\n",
        "    dataiter = iter(test_loader)\n",
        "    images, labels = next(dataiter)\n",
        "\n",
        "    output = model(images)\n",
        "    _, preds = torch.max(output, 1)\n",
        "    images = images.numpy()\n",
        "\n",
        "    fig = plt.figure(figsize=(25, 4))\n",
        "    for idx in np.arange(20):\n",
        "        ax = fig.add_subplot(2, 10, idx + 1, xticks=[], yticks=[])\n",
        "        ax.imshow(np.squeeze(images[idx]), cmap='gray')\n",
        "        ax.set_title(f\"{preds[idx].item()} ({labels[idx].item()})\",\n",
        "                     color=\"green\" if preds[idx] == labels[idx] else \"red\")\n",
        "\n",
        "\n",
        "    images, labels = next(dataiter)\n",
        "    output = model(images)\n",
        "    _, preds = torch.max(output, 1)\n",
        "    images = images.numpy()\n",
        "\n",
        "    fig = plt.figure(figsize=(25, 4))\n",
        "    for idx in np.arange(20):\n",
        "        ax = fig.add_subplot(2, 10, idx + 1, xticks=[], yticks=[])\n",
        "        ax.imshow(np.squeeze(images[idx]), cmap='gray')\n",
        "        ax.set_title(f\"{preds[idx].item()} ({labels[idx].item()})\",\n",
        "                    color=\"green\" if preds[idx] == labels[idx] else \"red\")"
      ],
      "metadata": {
        "id": "QiHHWrm99bH5"
      },
      "execution_count": null,
      "outputs": []
    },
    {
      "cell_type": "markdown",
      "source": [
        "Visualising a Test Batch with Results"
      ],
      "metadata": {
        "id": "CBpfKL8aEa58"
      }
    },
    {
      "cell_type": "code",
      "source": [
        "test(model)"
      ],
      "metadata": {
        "id": "3-B26VPsEp1m",
        "colab": {
          "base_uri": "https://localhost:8080/",
          "height": 919
        },
        "outputId": "1e75bea8-4249-48e0-d42f-89aba90e1b70"
      },
      "execution_count": null,
      "outputs": [
        {
          "output_type": "stream",
          "name": "stdout",
          "text": [
            "\n",
            "For FNet :\n",
            "Test Loss: 0.0916\n",
            "Correctly predicted per class : [972.0, 1125.0, 1011.0, 986.0, 971.0, 876.0, 945.0, 1015.0, 954.0, 979.0]\n",
            "Total predictions per class : [980.0, 1135.0, 1032.0, 1010.0, 982.0, 892.0, 958.0, 1028.0, 974.0, 1009.0]\n",
            "\n",
            "Test Accuracy of class 0: 99.18% (972 / 980)\n",
            "Test Accuracy of class 1: 99.12% (1125 / 1135)\n",
            "Test Accuracy of class 2: 97.97% (1011 / 1032)\n",
            "Test Accuracy of class 3: 97.62% (986 / 1010)\n",
            "Test Accuracy of class 4: 98.88% (971 / 982)\n",
            "Test Accuracy of class 5: 98.21% (876 / 892)\n",
            "Test Accuracy of class 6: 98.64% (945 / 958)\n",
            "Test Accuracy of class 7: 98.74% (1015 / 1028)\n",
            "Test Accuracy of class 8: 97.95% (954 / 974)\n",
            "Test Accuracy of class 9: 97.03% (979 / 1009)\n",
            "\n",
            "Overall Test Accuracy: 98.34% (9834 / 10000)\n"
          ]
        },
        {
          "output_type": "display_data",
          "data": {
            "text/plain": [
              "<Figure size 2500x400 with 20 Axes>"
            ],
            "image/png": "[encoded data removed]"
          },
          "metadata": {}
        },
        {
          "output_type": "display_data",
          "data": {
            "text/plain": [
              "<Figure size 2500x400 with 20 Axes>"
            ],
            "image/png": "[encoded data removed]"
          },
          "metadata": {}
        }
      ]
    }
  ]
}